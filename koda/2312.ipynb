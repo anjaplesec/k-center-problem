{
 "cells": [
  {
   "cell_type": "code",
   "execution_count": 1,
   "metadata": {
    "collapsed": false
   },
   "outputs": [
   ],
   "source": [
    "from sage.graphs.connectivity import connected_components\n",
    "from sage.graphs.connectivity import connected_components_number\n",
    "\n",
    "#m x n mreža, a št. izbrisanih vozlov, b št.izrbirsanih povezav\n",
    "def mreza(m,n,a,b):\n",
    "    mreza = graphs.Grid2dGraph(m,n)\n",
    "    if a > mreza.order():\n",
    "        print(\"Za ukaz je na voljo premalo vozlov.\")\n",
    "    else:\n",
    "        i = 0\n",
    "        while i < a:\n",
    "            mreza.delete_vertex(mreza.random_vertex())\n",
    "            i = i+1\n",
    "        i = 0\n",
    "    if b > mreza.size():\n",
    "        print(\"Za ukaz je na voljo premalo povezav.\")\n",
    "    else:\n",
    "        while i < b:\n",
    "            mreza.delete_edge(mreza.random_edge())\n",
    "            i = i+1\n",
    "    return mreza\n",
    "\n",
    "#reši CLP problem in vrne k\n",
    "def najkrajsa_razdalja(G, st_centrov):\n",
    "    K = st_centrov\n",
    "    razdalje = G.distance_all_pairs()\n",
    "\n",
    "    p = MixedIntegerLinearProgram(maximization=False)\n",
    "    x = p.new_variable(binary=True) #x_uv = 1 če mesto u spada k skladišču v (mestu v s skladiščem)\n",
    "    y = p.new_variable(binary=True) # y_v = 1 če je v mestu v skladišče\n",
    "\n",
    "    p.set_objective(p['R']) # največja razdalja je spremenljivka\n",
    "\n",
    "    for u in G:\n",
    "        p.add_constraint(sum(x[u, v] for v in G) == 1) #za vsako mesto u bo veljalo, da spada pod neko območje mesta v s skladiščem\n",
    "\n",
    "    p.add_constraint(sum(y[v] for v in G) == K) #vsota skladišč je enaka K\n",
    "\n",
    "    for u in G:\n",
    "        for v in G:\n",
    "            p.add_constraint(x[u, v] <= y[v]) #ne sme se zgoditi, da mesto u pade v območje mesta v, v mestu v pa sploh ni skladišča\n",
    "\n",
    "    for u in G:\n",
    "        for v in G:\n",
    "            if v in razdalje[u]:\n",
    "                p.add_constraint(razdalje[u][v] * x[u, v] <= p['R']) # če sta vozlišči v isti povezani komponenti, potem omejimo največjo razdaljo                                                                        do skladišča\n",
    "            else:\n",
    "                p.add_constraint(x[u, v] == 0) # sicer mesto u ne more pripadati skladišču v\n",
    "    max_razdalja = p.solve()\n",
    "    skladisca = [k for k, v in p.get_values(y).items() if v == 1]\n",
    "    #print(skladisca)\n",
    "    return max_razdalja\n",
    "\n",
    "\n",
    "#G = mreza(5,3,3,2)\n",
    "#slika=G.show()\n",
    "#najkrajsa_razdalja(G,5)\n",
    "\n",
    "#print(connected_components(G)) #večdelni graf zapiše po ločenih delih\n",
    "#print(connected_components_number(G)) #št. delov"
   ]
  },
  {
   "cell_type": "code",
   "execution_count": 2,
   "metadata": {
    "collapsed": false
   },
   "outputs": [
    {
     "name": "stdout",
     "output_type": "stream",
     "text": [
      "[(0, 2), (1, 1)]\n",
      "[(1, 1), (2, 0)]\n",
      "[(1, 2)]\n",
      "[(1, 1), (1, 2)]\n",
      "[(0, 1), (2, 3)]\n",
      "[(0, 3), (1, 1)]\n",
      "[(0, 3), (2, 1)]\n",
      "[(0, 1)]\n",
      "[(1, 1), (1, 3)]\n",
      "[(0, 2), (1, 2)]\n",
      "[(0, 0), (2, 2)]\n"
     ]
    },
    {
     "data": {
      "text/plain": [
       "[3.5, 2.7777777777777777]"
      ]
     },
     "execution_count": 2,
     "metadata": {
     },
     "output_type": "execute_result"
    }
   ],
   "source": [
    "#kako se optimalna vrednost spreminja glede na k\n",
    "def opt_vrednost_k(m,n,a,b,k):\n",
    "    G = mreza(m,n,a,b)\n",
    "    seznam_vrednosti = []\n",
    "    stevilo_komponent = connected_components_number(G)\n",
    "    for i in range(stevilo_komponent,k+1): ## težave pri določanju najmanjšega i???\n",
    "        razdalja = round(najkrajsa_razdalja(G, i)) #round za zaokrževanje števil\n",
    "        seznam_vrednosti.append((razdalja))\n",
    "    return seznam_vrednosti\n",
    "\n",
    "#vrne optimalno vrednost R za več ponovitev\n",
    "#FIKSNO: velikost mreže, število izbrisanih povezav in vozlišč\n",
    "#SPREMINJAVA: k\n",
    "def opt_vrednost_za_vec_ponovitev(m,n,a,b,max_stevilo_centrov,stevilo_ponovitev):\n",
    "    seznam = []\n",
    "    for i in range(0, stevilo_ponovitev):\n",
    "        G = mreza(m,n,a,b)\n",
    "        razdalje = opt_vrednost_k(m,n,a,b,max_stevilo_centrov)\n",
    "        seznam.append(razdalje)\n",
    "\n",
    "    for i in range(len(seznam)):\n",
    "        while len(seznam[i]) < max_stevilo_centrov:\n",
    "            seznam[i] = [None] + seznam[i]\n",
    "\n",
    "    povprecja = []\n",
    "    for j in range(max_stevilo_centrov):\n",
    "        vsota = 0\n",
    "        stevec = 0\n",
    "        for i in range(stevilo_ponovitev):\n",
    "            if seznam[i][j] != None:\n",
    "                vsota += seznam[i][j]\n",
    "                stevec += 1\n",
    "        if stevec == 0:\n",
    "            povprecja.append(None)\n",
    "        else:\n",
    "            povprecja.append(vsota/stevec)\n",
    "\n",
    "    return povprecja\n",
    "\n",
    "opt_vrednost_za_vec_ponovitev(3,4,2,2,2,10)"
   ]
  },
  {
   "cell_type": "code",
   "execution_count": 3,
   "metadata": {
    "collapsed": false
   },
   "outputs": [
    {
     "name": "stdout",
     "output_type": "stream",
     "text": [
      "[(1, 2)]\n",
      "[(0, 1), (2, 1)]\n",
      "[(0, 0), (1, 2), (2, 0)]\n",
      "[(0, 0), (0, 1), (1, 2), (2, 0)]\n",
      "[(0, 0), (0, 1), (0, 2), (1, 0), (2, 1)]\n",
      "[(1, 1), (2, 2)]\n",
      "[(0, 2), (1, 1), (2, 2)]\n",
      "[(1, 2)]\n"
     ]
    },
    {
     "name": "stdout",
     "output_type": "stream",
     "text": [
      "[(0, 1), (1, 2)]\n",
      "[(0, 1), (1, 3), (2, 2)]\n",
      "[(2, 0)]\n"
     ]
    },
    {
     "name": "stdout",
     "output_type": "stream",
     "text": [
      "[(0, 0), (1, 2)]\n",
      "[(0, 1), (1, 3), (2, 1)]\n",
      "[(1, 2), (2, 3)]\n"
     ]
    },
    {
     "name": "stdout",
     "output_type": "stream",
     "text": [
      "[(0, 1), (1, 1), (2, 3)]\n",
      "[(1, 1), (2, 3)]\n",
      "[(0, 1), (1, 1), (2, 3)]\n",
      "[(0, 2), (2, 0), (2, 2)]\n",
      "[(0, 2), (1, 1)]\n",
      "[(0, 0), (0, 3), (1, 1)]\n",
      "[(0, 1), (1, 2)]\n",
      "[(0, 0), (1, 2), (2, 1)]\n",
      "[(0, 0), (1, 2)]\n",
      "[(0, 2), (1, 0), (1, 2)]\n",
      "[(0, 3), (1, 1)]\n"
     ]
    },
    {
     "name": "stdout",
     "output_type": "stream",
     "text": [
      "[(0, 0), (0, 3), (1, 0)]\n"
     ]
    },
    {
     "data": {
      "text/plain": [
       "[0.04117906093597412, 0.04338179694281684, 0.042748093605041504]"
      ]
     },
     "execution_count": 3,
     "metadata": {
     },
     "output_type": "execute_result"
    }
   ],
   "source": [
    "import time\n",
    "\n",
    "#čas izvajanja v odvisnosti od k\n",
    "def cas_izvajanja_k(m,n,a,b,k):\n",
    "    G = mreza(m,n,a,b)\n",
    "    seznam_casov = []\n",
    "    stevilo_komponent = connected_components_number(G)\n",
    "    for i in range(stevilo_komponent,k+1):\n",
    "        zacetni = time.time()\n",
    "        najkrajsa_razdalja(G,i)\n",
    "        koncni = time.time() - zacetni\n",
    "        seznam_casov.append((koncni))\n",
    "    return seznam_casov\n",
    "\n",
    "cas_izvajanja_k(3,3,1,1,5)\n",
    "\n",
    "#vrne povprečne čase(od n ponovitev) za različne k\n",
    "#FIKSNO: velikost mreže, št. izbrisanih povezav in vozlišč\n",
    "#SPREMINJAMO: k\n",
    "def cas_izvajanja_za_vec_ponovitev(m,n,a,b,max_stevilo_centrov,stevilo_ponovitev):\n",
    "    seznam = []\n",
    "    for i in range(0, stevilo_ponovitev):\n",
    "        G = mreza(m,n,a,b)\n",
    "        casi = cas_izvajanja_k(m,n,a,b,max_stevilo_centrov)\n",
    "        seznam.append(casi)\n",
    "\n",
    "    for i in range(len(seznam)):\n",
    "        while len(seznam[i]) < max_stevilo_centrov:\n",
    "            seznam[i] = [None] + seznam[i]\n",
    "\n",
    "    povprecja = []\n",
    "    for j in range(max_stevilo_centrov):\n",
    "        vsota = 0\n",
    "        stevec = 0\n",
    "        for i in range(stevilo_ponovitev):\n",
    "            if seznam[i][j] != None:\n",
    "                vsota += seznam[i][j]\n",
    "                stevec += 1\n",
    "        if stevec == 0:\n",
    "            povprecja.append(None)\n",
    "        else:\n",
    "            povprecja.append(vsota/stevec)\n",
    "\n",
    "    return povprecja\n",
    "\n",
    "cas_izvajanja_za_vec_ponovitev(3,4,2,2,3,10)"
   ]
  },
  {
   "cell_type": "code",
   "execution_count": 4,
   "metadata": {
    "collapsed": false
   },
   "outputs": [
    {
     "name": "stdout",
     "output_type": "stream",
     "text": [
      "[(1, 2), (3, 1), (4, 1)]\n"
     ]
    },
    {
     "name": "stdout",
     "output_type": "stream",
     "text": [
      "[(0, 2), (1, 2), (4, 2)]\n"
     ]
    },
    {
     "name": "stdout",
     "output_type": "stream",
     "text": [
      "[(1, 1), (1, 3), (3, 2)]\n"
     ]
    },
    {
     "name": "stdout",
     "output_type": "stream",
     "text": [
      "[(1, 1), (1, 4), (3, 1)]\n"
     ]
    },
    {
     "name": "stdout",
     "output_type": "stream",
     "text": [
      "[(0, 2), (3, 1), (3, 4)]\n"
     ]
    },
    {
     "name": "stdout",
     "output_type": "stream",
     "text": [
      "[(2, 1), (3, 0), (3, 4)]\n",
      "[(1, 1), (1, 4), (2, 1)]\n",
      "[(0, 0), (2, 4), (3, 0)]\n"
     ]
    },
    {
     "name": "stdout",
     "output_type": "stream",
     "text": [
      "[(1, 0), (2, 1), (3, 4)]\n"
     ]
    },
    {
     "name": "stdout",
     "output_type": "stream",
     "text": [
      "[(0, 3), (2, 1), (4, 3)]\n"
     ]
    },
    {
     "name": "stdout",
     "output_type": "stream",
     "text": [
      "[(1, 2), (3, 3), (4, 1)]\n"
     ]
    },
    {
     "name": "stdout",
     "output_type": "stream",
     "text": [
      "[(1, 0), (2, 2), (2, 4)]\n"
     ]
    },
    {
     "name": "stdout",
     "output_type": "stream",
     "text": [
      "[(0, 2), (2, 0), (3, 4)]\n"
     ]
    },
    {
     "name": "stdout",
     "output_type": "stream",
     "text": [
      "[(0, 0), (1, 4), (2, 1)]\n"
     ]
    },
    {
     "name": "stdout",
     "output_type": "stream",
     "text": [
      "[(2, 0), (2, 2), (3, 4)]\n",
      "[(1, 2), (3, 4), (4, 3)]\n"
     ]
    },
    {
     "name": "stdout",
     "output_type": "stream",
     "text": [
      "[(0, 0), (0, 2), (3, 2)]\n",
      "[(0, 3), (2, 0), (2, 4)]\n",
      "[(0, 2), (1, 1), (2, 1)]\n"
     ]
    },
    {
     "name": "stdout",
     "output_type": "stream",
     "text": [
      "[(0, 2), (2, 3), (3, 0)]\n"
     ]
    },
    {
     "name": "stdout",
     "output_type": "stream",
     "text": [
      "[(1, 1), (2, 4), (4, 1)]\n"
     ]
    },
    {
     "name": "stdout",
     "output_type": "stream",
     "text": [
      "[(1, 0), (1, 3), (4, 2)]\n"
     ]
    },
    {
     "name": "stdout",
     "output_type": "stream",
     "text": [
      "[(1, 3), (2, 1), (3, 2)]\n"
     ]
    },
    {
     "name": "stdout",
     "output_type": "stream",
     "text": [
      "[(0, 3), (2, 0), (3, 3)]\n"
     ]
    },
    {
     "name": "stdout",
     "output_type": "stream",
     "text": [
      "[(1, 1), (1, 4), (4, 2)]\n"
     ]
    },
    {
     "name": "stdout",
     "output_type": "stream",
     "text": [
      "[(1, 0), (1, 3), (3, 2)]\n",
      "[(0, 4), (1, 0), (4, 3)]\n",
      "[(1, 1), (1, 4), (4, 3)]\n",
      "[(1, 1), (3, 2), (4, 0)]\n"
     ]
    },
    {
     "name": "stdout",
     "output_type": "stream",
     "text": [
      "[(0, 3), (2, 0), (4, 3)]\n"
     ]
    },
    {
     "name": "stdout",
     "output_type": "stream",
     "text": [
      "[(0, 1), (2, 3), (4, 1)]\n"
     ]
    },
    {
     "name": "stdout",
     "output_type": "stream",
     "text": [
      "[(1, 0), (1, 4), (4, 2)]\n"
     ]
    },
    {
     "name": "stdout",
     "output_type": "stream",
     "text": [
      "[(0, 4), (2, 1), (4, 2)]\n"
     ]
    },
    {
     "name": "stdout",
     "output_type": "stream",
     "text": [
      "[(1, 1), (2, 3), (3, 0)]\n",
      "[(0, 0), (1, 2), (4, 4)]\n"
     ]
    },
    {
     "name": "stdout",
     "output_type": "stream",
     "text": [
      "[(1, 2), (2, 0), (3, 3)]\n",
      "[(1, 1), (2, 3), (3, 0)]\n"
     ]
    },
    {
     "data": {
      "text/plain": [
       "[3.0,\n",
       " 2.6666666666666665,\n",
       " 2.3333333333333335,\n",
       " 2.6666666666666665,\n",
       " 3.0,\n",
       " 3.6666666666666665,\n",
       " 2.6666666666666665,\n",
       " 3.5,\n",
       " 3.0,\n",
       " 2.5,\n",
       " None,\n",
       " None,\n",
       " None,\n",
       " 3.0,\n",
       " None,\n",
       " None]"
      ]
     },
     "execution_count": 4,
     "metadata": {
     },
     "output_type": "execute_result"
    }
   ],
   "source": [
    "#kako se oprimalna vrednost spreminja glede na št. izbrisanih vozlov a\n",
    "def opt_vrednost_vozli(m,n,max_st_izbrisanih_vozlisc,b,k):\n",
    "    seznam_vrednosti = []\n",
    "    for i in range(0,max_st_izbrisanih_vozlisc + 1):\n",
    "        G = mreza(m,n,i,b)\n",
    "        stevilo_komponent = connected_components_number(G)\n",
    "        if stevilo_komponent <= k:\n",
    "            razdalja = round(najkrajsa_razdalja(G, k)) #round za zaokrževanje števil \n",
    "            seznam_vrednosti.append((razdalja))\n",
    "        else:\n",
    "            seznam_vrednosti.append(None)\n",
    "            \n",
    "    return seznam_vrednosti\n",
    "\n",
    "opt_vrednost_vozli(5,5,15,2,3)\n",
    "\n",
    "# !NEKI PAMETNGA BO TREBA NAREST Z None-i, ker primerjamo jabolka pa hruske pri razdrobljenih grafih pri relativno majhnih k!\n",
    "#fukncija vrne opt. razdalje R glede na število odstranjenih vozlišč\n",
    "#FIKSNO:velikost mreze, K, st. izbrisanih povezav\n",
    "#SPREMINJAM: st_izbrisanih vozlišč\n",
    "def R_v_odvisnosti_od_spreminjanje_stevila_vozlisc(m,n,max_st_izbrisanih_vozlisc,b,k,stevilo_ponovitev):\n",
    "    seznam = []\n",
    "    for i in range(stevilo_ponovitev):\n",
    "        razdalje = opt_vrednost_vozli(m,n,max_st_izbrisanih_vozlisc,b,k)\n",
    "        seznam.append(razdalje)\n",
    "\n",
    "    povprecja = []\n",
    "    for j in range(max_st_izbrisanih_vozlisc + 1):\n",
    "        vsota = 0\n",
    "        stevec = 0\n",
    "        for i in range(stevilo_ponovitev):\n",
    "            if seznam[i][j] != None:\n",
    "                vsota += seznam[i][j]\n",
    "                stevec += 1\n",
    "        if stevec == 0:\n",
    "            povprecja.append(None)\n",
    "        else:\n",
    "            povprecja.append(vsota/stevec)\n",
    "    return povprecja\n",
    "\n",
    "R_v_odvisnosti_od_spreminjanje_stevila_vozlisc(5,5,15,2,3,3)"
   ]
  },
  {
   "cell_type": "code",
   "execution_count": 5,
   "metadata": {
    "collapsed": false
   },
   "outputs": [
    {
     "name": "stdout",
     "output_type": "stream",
     "text": [
      "[(1, 1)]\n",
      "[(1, 0), (1, 1)]\n",
      "[(0, 0), (1, 0), (2, 2)]\n",
      "[(0, 0), (0, 1), (1, 0), (2, 2)]\n",
      "[(0, 0), (0, 1), (1, 0), (1, 1), (2, 1)]\n"
     ]
    },
    {
     "name": "stdout",
     "output_type": "stream",
     "text": [
      "[(0, 2), (3, 0), (3, 3)]\n"
     ]
    },
    {
     "name": "stdout",
     "output_type": "stream",
     "text": [
      "[(0, 3), (2, 0), (3, 2)]\n"
     ]
    },
    {
     "name": "stdout",
     "output_type": "stream",
     "text": [
      "[(1, 1), (2, 4), (4, 1)]\n"
     ]
    },
    {
     "name": "stdout",
     "output_type": "stream",
     "text": [
      "[(0, 1), (3, 1), (3, 4)]\n"
     ]
    },
    {
     "name": "stdout",
     "output_type": "stream",
     "text": [
      "[(0, 2), (2, 0), (3, 3)]\n"
     ]
    },
    {
     "name": "stdout",
     "output_type": "stream",
     "text": [
      "[(0, 4), (2, 1), (4, 3)]\n"
     ]
    },
    {
     "name": "stdout",
     "output_type": "stream",
     "text": [
      "[(0, 2), (2, 1), (3, 3)]\n",
      "[(0, 4), (2, 0), (4, 1)]\n",
      "[(1, 0), (1, 1), (3, 3)]\n"
     ]
    },
    {
     "name": "stdout",
     "output_type": "stream",
     "text": [
      "[(0, 3), (2, 0), (3, 3)]\n"
     ]
    },
    {
     "name": "stdout",
     "output_type": "stream",
     "text": [
      "[(1, 3), (2, 0), (4, 3)]\n"
     ]
    },
    {
     "name": "stdout",
     "output_type": "stream",
     "text": [
      "[(0, 1), (2, 4), (4, 1)]\n"
     ]
    },
    {
     "name": "stdout",
     "output_type": "stream",
     "text": [
      "[(1, 1), (2, 1), (2, 3)]\n"
     ]
    },
    {
     "name": "stdout",
     "output_type": "stream",
     "text": [
      "[(0, 1), (3, 1), (3, 3)]\n"
     ]
    },
    {
     "name": "stdout",
     "output_type": "stream",
     "text": [
      "[(1, 3), (2, 0), (3, 2)]\n",
      "[(0, 0), (0, 2), (3, 3)]\n",
      "[(2, 0), (2, 1), (2, 4)]\n"
     ]
    },
    {
     "name": "stdout",
     "output_type": "stream",
     "text": [
      "[(2, 2), (4, 0), (4, 2)]\n",
      "[(2, 2), (2, 4), (4, 3)]\n"
     ]
    },
    {
     "name": "stdout",
     "output_type": "stream",
     "text": [
      "[(0, 1), (2, 4), (3, 1)]\n"
     ]
    },
    {
     "name": "stdout",
     "output_type": "stream",
     "text": [
      "[(0, 0), (1, 4), (3, 1)]\n"
     ]
    },
    {
     "name": "stdout",
     "output_type": "stream",
     "text": [
      "[(0, 3), (2, 0), (3, 2)]\n"
     ]
    },
    {
     "name": "stdout",
     "output_type": "stream",
     "text": [
      "[(0, 2), (2, 0), (3, 3)]\n"
     ]
    },
    {
     "name": "stdout",
     "output_type": "stream",
     "text": [
      "[(0, 0), (1, 4), (4, 2)]\n",
      "[(0, 0), (0, 2), (4, 2)]\n"
     ]
    },
    {
     "name": "stdout",
     "output_type": "stream",
     "text": [
      "[(1, 2), (1, 4), (3, 2)]\n",
      "[(1, 3), (2, 0), (3, 2)]\n"
     ]
    },
    {
     "name": "stdout",
     "output_type": "stream",
     "text": [
      "[(0, 0), (2, 3), (3, 2)]\n",
      "[(0, 3), (2, 0), (4, 3)]\n"
     ]
    },
    {
     "data": {
      "text/plain": [
       "[4.747821728388469,\n",
       " 4.130467255910237,\n",
       " 3.0132040977478027,\n",
       " 2.196422894795736,\n",
       " 1.622791051864624,\n",
       " 1.096357027689616,\n",
       " 0.32151540120442706,\n",
       " 0.09397586186726888,\n",
       " 0.11115682125091553,\n",
       " 0.03382134437561035,\n",
       " 0.045514822006225586,\n",
       " None,\n",
       " None,\n",
       " 0.04423713684082031,\n",
       " None,\n",
       " None]"
      ]
     },
     "execution_count": 5,
     "metadata": {
     },
     "output_type": "execute_result"
    }
   ],
   "source": [
    "import time\n",
    "\n",
    "#funkcija drugacna od cas_izvajanja_k(m,n,a,b,k)\n",
    "#čas izvajanja v odvisnosti od k\n",
    "def cas_izvajanja_k2(m,n,max_st_izbrisanih_vozlisc,b,k):\n",
    "    seznam_casov = []\n",
    "    for i in range(max_st_izbrisanih_vozlisc + 1):\n",
    "        G = mreza(m,n,i,b)\n",
    "        stevilo_komponent = connected_components_number(G)\n",
    "        if stevilo_komponent <= k:\n",
    "            zacetni = time.time()\n",
    "            najkrajsa_razdalja(G,k)\n",
    "            koncni = time.time() - zacetni\n",
    "            seznam_casov.append(koncni)\n",
    "        else:\n",
    "            seznam_casov.append(None)\n",
    "    return seznam_casov\n",
    "\n",
    "cas_izvajanja_k(3,3,1,1,5)\n",
    "\n",
    "#funkcija vrne povprečne čase (od n ponovitev) glede na spreminjanje vozlov\n",
    "#FIKSNO:velikost mreze, K, st. izbrisanih povezav\n",
    "#SPREMINJAM: st_izbrisanih vozlov\n",
    "def cas_v_odvisnosti_od_spreminjanja_stevila_vozlisc(m,n,max_st_izbrisanih_vozlisc,b,k,stevilo_ponovitev):\n",
    "    seznam = []\n",
    "    for i in range(stevilo_ponovitev):\n",
    "        casi = cas_izvajanja_k2(m,n,max_st_izbrisanih_vozlisc,b,k)\n",
    "        seznam.append(casi)\n",
    "\n",
    "    povprecja = []\n",
    "    for j in range(max_st_izbrisanih_vozlisc + 1):\n",
    "        vsota = 0\n",
    "        stevec = 0\n",
    "        for i in range(stevilo_ponovitev):\n",
    "            if seznam[i][j] != None:\n",
    "                vsota += seznam[i][j]\n",
    "                stevec += 1\n",
    "        if stevec == 0:\n",
    "            povprecja.append(None)\n",
    "        else:\n",
    "            povprecja.append(vsota/stevec)\n",
    "    return povprecja\n",
    "\n",
    "cas_v_odvisnosti_od_spreminjanja_stevila_vozlisc(5,5,15,2,3,3)"
   ]
  },
  {
   "cell_type": "code",
   "execution_count": 0,
   "metadata": {
    "collapsed": false
   },
   "outputs": [
   ],
   "source": [
   ]
  }
 ],
 "metadata": {
  "kernelspec": {
   "display_name": "SageMath 9.1",
   "language": "sagemath",
   "metadata": {
    "cocalc": {
     "description": "Open-source mathematical software system",
     "priority": 1,
     "url": "https://www.sagemath.org/"
    }
   },
   "name": "sage-9.1",
   "resource_dir": "/ext/jupyter/kernels/sage-9.1"
  },
  "language_info": {
   "codemirror_mode": {
    "name": "ipython",
    "version": 3
   },
   "file_extension": ".py",
   "mimetype": "text/x-python",
   "name": "python",
   "nbconvert_exporter": "python",
   "pygments_lexer": "ipython3",
   "version": "3.7.3"
  }
 },
 "nbformat": 4,
 "nbformat_minor": 4
}