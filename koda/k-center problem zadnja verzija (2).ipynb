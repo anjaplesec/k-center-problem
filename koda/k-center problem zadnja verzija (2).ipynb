{
 "cells": [
  {
   "cell_type": "code",
   "execution_count": 11,
   "metadata": {
    "collapsed": false
   },
   "outputs": [
    {
     "name": "stdout",
     "output_type": "stream",
     "text": [
      "[[(0, 0), (0, 1), (0, 2), (0, 3), (0, 4), (1, 0), (1, 2), (1, 3), (1, 4), (2, 1), (2, 2), (2, 3), (3, 1), (3, 3), (4, 3), (4, 4)], [(3, 0)], [(4, 0)]]\n",
      "3\n"
     ]
    },
    {
     "data": {
      "image/png": "[encoded data removed]",
      "text/plain": [
       "Graphics object consisting of 37 graphics primitives"
      ]
     },
     "execution_count": 11,
     "metadata": {
     },
     "output_type": "execute_result"
    },
    {
     "name": "stdout",
     "output_type": "stream",
     "text": [
      "Graf ni enodelen.\n",
      "{(0, 0): {(0, 0): 0, (0, 1): 1, (0, 2): 2, (0, 3): 3, (0, 4): 4, (1, 0): 1, (1, 2): 3, (1, 3): 4, (1, 4): 5, (2, 1): 5, (2, 2): 4, (2, 3): 5, (3, 1): 6, (3, 3): 6, (4, 3): 7, (4, 4): 8}, (0, 1): {(0, 0): 1, (0, 1): 0, (0, 2): 1, (0, 3): 2, (0, 4): 3, (1, 0): 2, (1, 2): 2, (1, 3): 3, (1, 4): 4, (2, 1): 4, (2, 2): 3, (2, 3): 4, (3, 1): 5, (3, 3): 5, (4, 3): 6, (4, 4): 7}, (0, 2): {(0, 0): 2, (0, 1): 1, (0, 2): 0, (0, 3): 1, (0, 4): 2, (1, 0): 3, (1, 2): 1, (1, 3): 2, (1, 4): 3, (2, 1): 3, (2, 2): 2, (2, 3): 3, (3, 1): 4, (3, 3): 4, (4, 3): 5, (4, 4): 6}, (0, 3): {(0, 0): 3, (0, 1): 2, (0, 2): 1, (0, 3): 0, (0, 4): 1, (1, 0): 4, (1, 2): 2, (1, 3): 1, (1, 4): 2, (2, 1): 4, (2, 2): 3, (2, 3): 2, (3, 1): 5, (3, 3): 3, (4, 3): 4, (4, 4): 5}, (0, 4): {(0, 0): 4, (0, 1): 3, (0, 2): 2, (0, 3): 1, (0, 4): 0, (1, 0): 5, (1, 2): 3, (1, 3): 2, (1, 4): 1, (2, 1): 5, (2, 2): 4, (2, 3): 3, (3, 1): 6, (3, 3): 4, (4, 3): 5, (4, 4): 6}, (1, 0): {(0, 0): 1, (0, 1): 2, (0, 2): 3, (0, 3): 4, (0, 4): 5, (1, 0): 0, (1, 2): 4, (1, 3): 5, (1, 4): 6, (2, 1): 6, (2, 2): 5, (2, 3): 6, (3, 1): 7, (3, 3): 7, (4, 3): 8, (4, 4): 9}, (1, 2): {(0, 0): 3, (0, 1): 2, (0, 2): 1, (0, 3): 2, (0, 4): 3, (1, 0): 4, (1, 2): 0, (1, 3): 1, (1, 4): 2, (2, 1): 2, (2, 2): 1, (2, 3): 2, (3, 1): 3, (3, 3): 3, (4, 3): 4, (4, 4): 5}, (1, 3): {(0, 0): 4, (0, 1): 3, (0, 2): 2, (0, 3): 1, (0, 4): 2, (1, 0): 5, (1, 2): 1, (1, 3): 0, (1, 4): 1, (2, 1): 3, (2, 2): 2, (2, 3): 1, (3, 1): 4, (3, 3): 2, (4, 3): 3, (4, 4): 4}, (1, 4): {(0, 0): 5, (0, 1): 4, (0, 2): 3, (0, 3): 2, (0, 4): 1, (1, 0): 6, (1, 2): 2, (1, 3): 1, (1, 4): 0, (2, 1): 4, (2, 2): 3, (2, 3): 2, (3, 1): 5, (3, 3): 3, (4, 3): 4, (4, 4): 5}, (2, 1): {(0, 0): 5, (0, 1): 4, (0, 2): 3, (0, 3): 4, (0, 4): 5, (1, 0): 6, (1, 2): 2, (1, 3): 3, (1, 4): 4, (2, 1): 0, (2, 2): 1, (2, 3): 2, (3, 1): 1, (3, 3): 3, (4, 3): 4, (4, 4): 5}, (2, 2): {(0, 0): 4, (0, 1): 3, (0, 2): 2, (0, 3): 3, (0, 4): 4, (1, 0): 5, (1, 2): 1, (1, 3): 2, (1, 4): 3, (2, 1): 1, (2, 2): 0, (2, 3): 1, (3, 1): 2, (3, 3): 2, (4, 3): 3, (4, 4): 4}, (2, 3): {(0, 0): 5, (0, 1): 4, (0, 2): 3, (0, 3): 2, (0, 4): 3, (1, 0): 6, (1, 2): 2, (1, 3): 1, (1, 4): 2, (2, 1): 2, (2, 2): 1, (2, 3): 0, (3, 1): 3, (3, 3): 1, (4, 3): 2, (4, 4): 3}, (3, 0): {(3, 0): 0}, (3, 1): {(0, 0): 6, (0, 1): 5, (0, 2): 4, (0, 3): 5, (0, 4): 6, (1, 0): 7, (1, 2): 3, (1, 3): 4, (1, 4): 5, (2, 1): 1, (2, 2): 2, (2, 3): 3, (3, 1): 0, (3, 3): 4, (4, 3): 5, (4, 4): 6}, (3, 3): {(0, 0): 6, (0, 1): 5, (0, 2): 4, (0, 3): 3, (0, 4): 4, (1, 0): 7, (1, 2): 3, (1, 3): 2, (1, 4): 3, (2, 1): 3, (2, 2): 2, (2, 3): 1, (3, 1): 4, (3, 3): 0, (4, 3): 1, (4, 4): 2}, (4, 0): {(4, 0): 0}, (4, 3): {(0, 0): 7, (0, 1): 6, (0, 2): 5, (0, 3): 4, (0, 4): 5, (1, 0): 8, (1, 2): 4, (1, 3): 3, (1, 4): 4, (2, 1): 4, (2, 2): 3, (2, 3): 2, (3, 1): 5, (3, 3): 1, (4, 3): 0, (4, 4): 1}, (4, 4): {(0, 0): 8, (0, 1): 7, (0, 2): 6, (0, 3): 5, (0, 4): 6, (1, 0): 9, (1, 2): 5, (1, 3): 4, (1, 4): 5, (2, 1): 5, (2, 2): 4, (2, 3): 3, (3, 1): 6, (3, 3): 2, (4, 3): 1, (4, 4): 0}}\n"
     ]
    },
    {
     "ename": "KeyError",
     "evalue": "(3, 0)",
     "output_type": "error",
     "traceback": [
      "\u001b[0;31m---------------------------------------------------------------------------\u001b[0m",
      "\u001b[0;31mKeyError\u001b[0m                                  Traceback (most recent call last)",
      "\u001b[0;32m<ipython-input-11-2a8619c65f93>\u001b[0m in \u001b[0;36m<module>\u001b[0;34m()\u001b[0m\n\u001b[0;32m----> 1\u001b[0;31m \u001b[0mget_ipython\u001b[0m\u001b[0;34m(\u001b[0m\u001b[0;34m)\u001b[0m\u001b[0;34m.\u001b[0m\u001b[0mrun_cell_magic\u001b[0m\u001b[0;34m(\u001b[0m\u001b[0;34m'time'\u001b[0m\u001b[0;34m,\u001b[0m \u001b[0;34m''\u001b[0m\u001b[0;34m,\u001b[0m \u001b[0;34m'\\nfrom sage.graphs.connectivity import connected_components\\nfrom sage.graphs.connectivity import connected_components_number\\n\\n\\ndef mreza1(m,n,a):\\n    mreza = graphs.Grid2dGraph(m,n)\\n    i = 0\\n    while i < a:\\n        mreza.delete_vertex(mreza.random_vertex())\\n        i = i+1\\n    return mreza\\n\\ndef mreza2(m,n,a):\\n    mreza = graphs.Grid2dGraph(m,n)\\n    i = 0\\n    while i < a:\\n        mreza.delete_edge(mreza.random_edge())\\n        i = i+1\\n    return mreza\\n\\ndef mreza(m,n,a,b): #m x n mreža, a št. izbrisanih vozlov, b št.izrbirsanih povezav\\n    mreza = graphs.Grid2dGraph(m,n)\\n    if a > mreza.order():\\n        print(\"Za ukaz je na voljo premalo vozlov.\")\\n    else:\\n        i = 0\\n        while i < a:\\n            mreza.delete_vertex(mreza.random_vertex())\\n            i = i+1\\n        i = 0\\n    if b > mreza.size():\\n        print(\"Za ukaz je na voljo premalo povezav.\")\\n    else:\\n        while i < b:\\n            mreza.delete_edge(mreza.random_edge())\\n            i = i+1\\n    return mreza\\n\\ndef enodelengraf(G):\\n    razdalje = G.distance_all_pairs()\\n    a = razdalje[(0,0)]\\n    if len(a) == G.order():\\n        print(\"Graf je enodelen.\")\\n    else:\\n        print(\"Graf ni enodelen.\")\\n\\n#G = graphs.Grid2dGraph(3, 3) # mreža 3x3\\n#G.delete_vertex(G.random_vertex())\\n#G.delete_edge(G.random_edge())\\n\\nG = mreza(5,5,7,2)\\nK = 2\\n\\nprint(connected_components(G)) #večdelni graf zapiše po ločenih delih\\nprint(connected_components_number(G)) #št. delov\\n\\n\\nslika=G.show()\\n        \\nenodelengraf(G)\\n\\nrazdalje = G.distance_all_pairs()\\nprint(razdalje)\\n\\np = MixedIntegerLinearProgram(maximization=False)\\nx = p.new_variable(binary=True) #x_uv = 1 če mesto u spada k skladišču v (mestu v s skladiščem)\\ny = p.new_variable(binary=True) # y_v = 1 če je v mestu v skladišče\\n\\np.set_objective(p[\\'R\\']) # največja razdalja je spremenljivka\\n\\nfor u in G:\\n    p.add_constraint(sum(x[u, v] for v in G) == 1) #za vsako mesto u bo veljalo, da spada pod neko območje mesta v s skladiščem\\n\\np.add_constraint(sum(y[v] for v in G) == K) #vsota skladišč je enaka K\\n\\nfor u in G:\\n    for v in G:\\n        p.add_constraint(x[u, v] <= y[v]) #ne sme se zgoditi, da mesto u pade v območje mesta v, v mestu v pa sploh ni skladišča\\n\\nfor u in G:\\n    for v in G:\\n        p.add_constraint(razdalje[u][v] * x[u, v] <= p[\\'R\\']) # za vsako obstoječo povezavo med mestom in skladiščem mora veljati, da je ta manjša od R\\n\\nmax_razdalja = p.solve()\\nprint(max_razdalja)\\n\\n\\nskladisca = [k for k, v in p.get_values(y).items() if v == 1]\\nprint(skladisca)'\u001b[0m\u001b[0;34m)\u001b[0m\u001b[0;34m\u001b[0m\u001b[0;34m\u001b[0m\u001b[0m\n\u001b[0m",
      "\u001b[0;32m/ext/sage/sage-9.1/local/lib/python3.7/site-packages/IPython/core/interactiveshell.py\u001b[0m in \u001b[0;36mrun_cell_magic\u001b[0;34m(self, magic_name, line, cell)\u001b[0m\n\u001b[1;32m   2115\u001b[0m             \u001b[0mmagic_arg_s\u001b[0m \u001b[0;34m=\u001b[0m \u001b[0mself\u001b[0m\u001b[0;34m.\u001b[0m\u001b[0mvar_expand\u001b[0m\u001b[0;34m(\u001b[0m\u001b[0mline\u001b[0m\u001b[0;34m,\u001b[0m \u001b[0mstack_depth\u001b[0m\u001b[0;34m)\u001b[0m\u001b[0;34m\u001b[0m\u001b[0;34m\u001b[0m\u001b[0m\n\u001b[1;32m   2116\u001b[0m             \u001b[0;32mwith\u001b[0m \u001b[0mself\u001b[0m\u001b[0;34m.\u001b[0m\u001b[0mbuiltin_trap\u001b[0m\u001b[0;34m:\u001b[0m\u001b[0;34m\u001b[0m\u001b[0;34m\u001b[0m\u001b[0m\n\u001b[0;32m-> 2117\u001b[0;31m                 \u001b[0mresult\u001b[0m \u001b[0;34m=\u001b[0m \u001b[0mfn\u001b[0m\u001b[0;34m(\u001b[0m\u001b[0mmagic_arg_s\u001b[0m\u001b[0;34m,\u001b[0m \u001b[0mcell\u001b[0m\u001b[0;34m)\u001b[0m\u001b[0;34m\u001b[0m\u001b[0;34m\u001b[0m\u001b[0m\n\u001b[0m\u001b[1;32m   2118\u001b[0m             \u001b[0;32mreturn\u001b[0m \u001b[0mresult\u001b[0m\u001b[0;34m\u001b[0m\u001b[0;34m\u001b[0m\u001b[0m\n\u001b[1;32m   2119\u001b[0m \u001b[0;34m\u001b[0m\u001b[0m\n",
      "\u001b[0;32m<decorator-gen-60>\u001b[0m in \u001b[0;36mtime\u001b[0;34m(self, line, cell, local_ns)\u001b[0m\n",
      "\u001b[0;32m/ext/sage/sage-9.1/local/lib/python3.7/site-packages/IPython/core/magic.py\u001b[0m in \u001b[0;36m<lambda>\u001b[0;34m(f, *a, **k)\u001b[0m\n\u001b[1;32m    186\u001b[0m     \u001b[0;31m# but it's overkill for just that one bit of state.\u001b[0m\u001b[0;34m\u001b[0m\u001b[0;34m\u001b[0m\u001b[0;34m\u001b[0m\u001b[0m\n\u001b[1;32m    187\u001b[0m     \u001b[0;32mdef\u001b[0m \u001b[0mmagic_deco\u001b[0m\u001b[0;34m(\u001b[0m\u001b[0marg\u001b[0m\u001b[0;34m)\u001b[0m\u001b[0;34m:\u001b[0m\u001b[0;34m\u001b[0m\u001b[0;34m\u001b[0m\u001b[0m\n\u001b[0;32m--> 188\u001b[0;31m         \u001b[0mcall\u001b[0m \u001b[0;34m=\u001b[0m \u001b[0;32mlambda\u001b[0m \u001b[0mf\u001b[0m\u001b[0;34m,\u001b[0m \u001b[0;34m*\u001b[0m\u001b[0ma\u001b[0m\u001b[0;34m,\u001b[0m \u001b[0;34m**\u001b[0m\u001b[0mk\u001b[0m\u001b[0;34m:\u001b[0m \u001b[0mf\u001b[0m\u001b[0;34m(\u001b[0m\u001b[0;34m*\u001b[0m\u001b[0ma\u001b[0m\u001b[0;34m,\u001b[0m \u001b[0;34m**\u001b[0m\u001b[0mk\u001b[0m\u001b[0;34m)\u001b[0m\u001b[0;34m\u001b[0m\u001b[0;34m\u001b[0m\u001b[0m\n\u001b[0m\u001b[1;32m    189\u001b[0m \u001b[0;34m\u001b[0m\u001b[0m\n\u001b[1;32m    190\u001b[0m         \u001b[0;32mif\u001b[0m \u001b[0mcallable\u001b[0m\u001b[0;34m(\u001b[0m\u001b[0marg\u001b[0m\u001b[0;34m)\u001b[0m\u001b[0;34m:\u001b[0m\u001b[0;34m\u001b[0m\u001b[0;34m\u001b[0m\u001b[0m\n",
      "\u001b[0;32m/ext/sage/sage-9.1/local/lib/python3.7/site-packages/IPython/core/magics/execution.py\u001b[0m in \u001b[0;36mtime\u001b[0;34m(self, line, cell, local_ns)\u001b[0m\n\u001b[1;32m   1191\u001b[0m         \u001b[0;32melse\u001b[0m\u001b[0;34m:\u001b[0m\u001b[0;34m\u001b[0m\u001b[0;34m\u001b[0m\u001b[0m\n\u001b[1;32m   1192\u001b[0m             \u001b[0mst\u001b[0m \u001b[0;34m=\u001b[0m \u001b[0mclock2\u001b[0m\u001b[0;34m(\u001b[0m\u001b[0;34m)\u001b[0m\u001b[0;34m\u001b[0m\u001b[0;34m\u001b[0m\u001b[0m\n\u001b[0;32m-> 1193\u001b[0;31m             \u001b[0mexec\u001b[0m\u001b[0;34m(\u001b[0m\u001b[0mcode\u001b[0m\u001b[0;34m,\u001b[0m \u001b[0mglob\u001b[0m\u001b[0;34m,\u001b[0m \u001b[0mlocal_ns\u001b[0m\u001b[0;34m)\u001b[0m\u001b[0;34m\u001b[0m\u001b[0;34m\u001b[0m\u001b[0m\n\u001b[0m\u001b[1;32m   1194\u001b[0m             \u001b[0mend\u001b[0m \u001b[0;34m=\u001b[0m \u001b[0mclock2\u001b[0m\u001b[0;34m(\u001b[0m\u001b[0;34m)\u001b[0m\u001b[0;34m\u001b[0m\u001b[0;34m\u001b[0m\u001b[0m\n\u001b[1;32m   1195\u001b[0m             \u001b[0mout\u001b[0m \u001b[0;34m=\u001b[0m \u001b[0;32mNone\u001b[0m\u001b[0;34m\u001b[0m\u001b[0;34m\u001b[0m\u001b[0m\n",
      "\u001b[0;32m<timed exec>\u001b[0m in \u001b[0;36m<module>\u001b[0;34m()\u001b[0m\n",
      "\u001b[0;31mKeyError\u001b[0m: (3, 0)"
     ]
    }
   ],
   "source": [
    "%%time\n",
    "\n",
    "from sage.graphs.connectivity import connected_components\n",
    "from sage.graphs.connectivity import connected_components_number\n",
    "\n",
    "\n",
    "def mreza1(m,n,a):\n",
    "    mreza = graphs.Grid2dGraph(m,n)\n",
    "    i = 0\n",
    "    while i < a:\n",
    "        mreza.delete_vertex(mreza.random_vertex())\n",
    "        i = i+1\n",
    "    return mreza\n",
    "\n",
    "def mreza2(m,n,a):\n",
    "    mreza = graphs.Grid2dGraph(m,n)\n",
    "    i = 0\n",
    "    while i < a:\n",
    "        mreza.delete_edge(mreza.random_edge())\n",
    "        i = i+1\n",
    "    return mreza\n",
    "\n",
    "def mreza(m,n,a,b): #m x n mreža, a št. izbrisanih vozlov, b št.izrbirsanih povezav\n",
    "    mreza = graphs.Grid2dGraph(m,n)\n",
    "    if a > mreza.order():\n",
    "        print(\"Za ukaz je na voljo premalo vozlov.\")\n",
    "    else:\n",
    "        i = 0\n",
    "        while i < a:\n",
    "            mreza.delete_vertex(mreza.random_vertex())\n",
    "            i = i+1\n",
    "        i = 0\n",
    "    if b > mreza.size():\n",
    "        print(\"Za ukaz je na voljo premalo povezav.\")\n",
    "    else:\n",
    "        while i < b:\n",
    "            mreza.delete_edge(mreza.random_edge())\n",
    "            i = i+1\n",
    "    return mreza\n",
    "\n",
    "def enodelengraf(G):\n",
    "    razdalje = G.distance_all_pairs()\n",
    "    a = razdalje[(0,0)]\n",
    "    if len(a) == G.order():\n",
    "        print(\"Graf je enodelen.\")\n",
    "    else:\n",
    "        print(\"Graf ni enodelen.\")\n",
    "\n",
    "#G = graphs.Grid2dGraph(3, 3) # mreža 3x3\n",
    "#G.delete_vertex(G.random_vertex())\n",
    "#G.delete_edge(G.random_edge())\n",
    "\n",
    "G = mreza(5,5,7,2)\n",
    "K = 2\n",
    "\n",
    "print(connected_components(G)) #večdelni graf zapiše po ločenih delih\n",
    "print(connected_components_number(G)) #št. delov\n",
    "\n",
    "\n",
    "slika=G.show()\n",
    "        \n",
    "enodelengraf(G)\n",
    "\n",
    "razdalje = G.distance_all_pairs()\n",
    "print(razdalje)\n",
    "\n",
    "p = MixedIntegerLinearProgram(maximization=False)\n",
    "x = p.new_variable(binary=True) #x_uv = 1 če mesto u spada k skladišču v (mestu v s skladiščem)\n",
    "y = p.new_variable(binary=True) # y_v = 1 če je v mestu v skladišče\n",
    "\n",
    "p.set_objective(p['R']) # največja razdalja je spremenljivka\n",
    "\n",
    "for u in G:\n",
    "    p.add_constraint(sum(x[u, v] for v in G) == 1) #za vsako mesto u bo veljalo, da spada pod neko območje mesta v s skladiščem\n",
    "\n",
    "p.add_constraint(sum(y[v] for v in G) == K) #vsota skladišč je enaka K\n",
    "\n",
    "for u in G:\n",
    "    for v in G:\n",
    "        p.add_constraint(x[u, v] <= y[v]) #ne sme se zgoditi, da mesto u pade v območje mesta v, v mestu v pa sploh ni skladišča\n",
    "\n",
    "for u in G:\n",
    "    for v in G:\n",
    "        p.add_constraint(razdalje[u][v] * x[u, v] <= p['R']) # za vsako obstoječo povezavo med mestom in skladiščem mora veljati, da je ta manjša od R\n",
    "\n",
    "max_razdalja = p.solve()\n",
    "print(max_razdalja)\n",
    "\n",
    "\n",
    "skladisca = [k for k, v in p.get_values(y).items() if v == 1]\n",
    "print(skladisca)"
   ]
  },
  {
   "cell_type": "code",
   "execution_count": 0,
   "metadata": {
    "collapsed": false
   },
   "outputs": [
   ],
   "source": [
   ]
  },
  {
   "cell_type": "code",
   "execution_count": 0,
   "metadata": {
    "collapsed": false
   },
   "outputs": [
   ],
   "source": [
   ]
  },
  {
   "cell_type": "code",
   "execution_count": 0,
   "metadata": {
    "collapsed": false
   },
   "outputs": [
   ],
   "source": [
   ]
  },
  {
   "cell_type": "code",
   "execution_count": 0,
   "metadata": {
    "collapsed": false
   },
   "outputs": [
   ],
   "source": [
   ]
  },
  {
   "cell_type": "code",
   "execution_count": 0,
   "metadata": {
    "collapsed": false
   },
   "outputs": [
   ],
   "source": [
   ]
  },
  {
   "cell_type": "code",
   "execution_count": 0,
   "metadata": {
    "collapsed": false
   },
   "outputs": [
   ],
   "source": [
   ]
  }
 ],
 "metadata": {
  "kernelspec": {
   "display_name": "SageMath 9.1",
   "language": "sagemath",
   "metadata": {
    "cocalc": {
     "description": "Open-source mathematical software system",
     "priority": 1,
     "url": "https://www.sagemath.org/"
    }
   },
   "name": "sage-9.1",
   "resource_dir": "/ext/jupyter/kernels/sage-9.1"
  },
  "language_info": {
   "codemirror_mode": {
    "name": "ipython",
    "version": 3
   },
   "file_extension": ".py",
   "mimetype": "text/x-python",
   "name": "python",
   "nbconvert_exporter": "python",
   "pygments_lexer": "ipython3",
   "version": "3.7.3"
  }
 },
 "nbformat": 4,
 "nbformat_minor": 4
}