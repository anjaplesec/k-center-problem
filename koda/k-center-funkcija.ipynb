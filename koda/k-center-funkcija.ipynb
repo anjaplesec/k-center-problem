{
 "cells": [
  {
   "cell_type": "code",
   "execution_count": 0,
   "metadata": {
    "collapsed": false
   },
   "outputs": [
   ],
   "source": [
    "#%%time\n",
    "\n",
    "from sage.graphs.connectivity import connected_components\n",
    "from sage.graphs.connectivity import connected_components_number\n",
    "\n",
    "def mreza(m,n,a,b): #m x n mreža, a št. izbrisanih vozlov, b št.izrbirsanih povezav\n",
    "    mreza = graphs.Grid2dGraph(m,n)\n",
    "    if a > mreza.order():\n",
    "        print(\"Za ukaz je na voljo premalo vozlov.\")\n",
    "    else:\n",
    "        i = 0\n",
    "        while i < a:\n",
    "            mreza.delete_vertex(mreza.random_vertex())\n",
    "            i = i+1\n",
    "        i = 0\n",
    "    if b > mreza.size():\n",
    "        print(\"Za ukaz je na voljo premalo povezav.\")\n",
    "    else:\n",
    "        while i < b:\n",
    "            mreza.delete_edge(mreza.random_edge())\n",
    "            i = i+1\n",
    "    return mreza\n",
    "\n",
    "G = mreza(5,5,7,2)\n",
    "\n",
    "#print(connected_components(G)) #večdelni graf zapiše po ločenih delih\n",
    "#print(connected_components_number(G)) #št. delov\n",
    "\n",
    "slika=G.show()\n",
    "\n",
    "def najkrajsa_razdalja(G, st_centrov):\n",
    "    K = st_centrov\n",
    "    razdalje = G.distance_all_pairs()\n",
    "\n",
    "    p = MixedIntegerLinearProgram(maximization=False)\n",
    "    x = p.new_variable(binary=True) #x_uv = 1 če mesto u spada k skladišču v (mestu v s skladiščem)\n",
    "    y = p.new_variable(binary=True) # y_v = 1 če je v mestu v skladišče\n",
    "\n",
    "    p.set_objective(p['R']) # največja razdalja je spremenljivka\n",
    "\n",
    "    for u in G:\n",
    "        p.add_constraint(sum(x[u, v] for v in G) == 1) #za vsako mesto u bo veljalo, da spada pod neko območje mesta v s skladiščem\n",
    "\n",
    "    p.add_constraint(sum(y[v] for v in G) == K) #vsota skladišč je enaka K\n",
    "\n",
    "    for u in G:\n",
    "        for v in G:\n",
    "            p.add_constraint(x[u, v] <= y[v]) #ne sme se zgoditi, da mesto u pade v območje mesta v, v mestu v pa sploh ni skladišča\n",
    "\n",
    "    for u in G:\n",
    "        for v in G:\n",
    "            if v in razdalje[u]:\n",
    "                p.add_constraint(razdalje[u][v] * x[u, v] <= p['R']) # če sta vozlišči v isti povezani komponenti, potem omejimo največjo razdaljo                                                                        do skladišča\n",
    "            else:\n",
    "                p.add_constraint(x[u, v] == 0) # sicer mesto u ne more pripadati skladišču v\n",
    "    max_razdalja = p.solve()\n",
    "    #skladisca = [k for k, v in p.get_values(y).items() if v == 1]\n",
    "    #print(skladisca)\n",
    "    return max_razdalja\n",
    "\n",
    "najkrajsa_razdalja(G,5)"
   ]
  },
  {
   "cell_type": "code",
   "execution_count": 0,
   "metadata": {
    "collapsed": false
   },
   "outputs": [
   ],
   "source": [
   ]
  }
 ],
 "metadata": {
  "kernelspec": {
   "display_name": "SageMath 9.1",
   "language": "sagemath",
   "metadata": {
    "cocalc": {
     "description": "Open-source mathematical software system",
     "priority": 1,
     "url": "https://www.sagemath.org/"
    }
   },
   "name": "sage-9.1",
   "resource_dir": "/ext/jupyter/kernels/sage-9.1"
  }
 },
 "nbformat": 4,
 "nbformat_minor": 4
}