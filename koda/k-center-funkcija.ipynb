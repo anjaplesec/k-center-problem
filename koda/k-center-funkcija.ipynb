{
 "cells": [
  {
   "cell_type": "code",
   "execution_count": 1,
   "metadata": {
    "collapsed": false
   },
   "outputs": [
   ],
   "source": [
    "from sage.graphs.connectivity import connected_components\n",
    "from sage.graphs.connectivity import connected_components_number\n",
    "\n",
    "def mreza(m,n,a,b): #m x n mreža, a št. izbrisanih vozlov, b št.izrbirsanih povezav\n",
    "    mreza = graphs.Grid2dGraph(m,n)\n",
    "    if a > mreza.order():\n",
    "        print(\"Za ukaz je na voljo premalo vozlov.\")\n",
    "    else:\n",
    "        i = 0\n",
    "        while i < a:\n",
    "            mreza.delete_vertex(mreza.random_vertex())\n",
    "            i = i+1\n",
    "        i = 0\n",
    "    if b > mreza.size():\n",
    "        print(\"Za ukaz je na voljo premalo povezav.\")\n",
    "    else:\n",
    "        while i < b:\n",
    "            mreza.delete_edge(mreza.random_edge())\n",
    "            i = i+1\n",
    "    return mreza\n",
    "\n",
    "def najkrajsa_razdalja(G, st_centrov):\n",
    "    K = st_centrov\n",
    "    razdalje = G.distance_all_pairs()\n",
    "\n",
    "    p = MixedIntegerLinearProgram(maximization=False)\n",
    "    x = p.new_variable(binary=True) #x_uv = 1 če mesto u spada k skladišču v (mestu v s skladiščem)\n",
    "    y = p.new_variable(binary=True) # y_v = 1 če je v mestu v skladišče\n",
    "\n",
    "    p.set_objective(p['R']) # največja razdalja je spremenljivka\n",
    "\n",
    "    for u in G:\n",
    "        p.add_constraint(sum(x[u, v] for v in G) == 1) #za vsako mesto u bo veljalo, da spada pod neko območje mesta v s skladiščem\n",
    "\n",
    "    p.add_constraint(sum(y[v] for v in G) == K) #vsota skladišč je enaka K\n",
    "\n",
    "    for u in G:\n",
    "        for v in G:\n",
    "            p.add_constraint(x[u, v] <= y[v]) #ne sme se zgoditi, da mesto u pade v območje mesta v, v mestu v pa sploh ni skladišča\n",
    "\n",
    "    for u in G:\n",
    "        for v in G:\n",
    "            if v in razdalje[u]:\n",
    "                p.add_constraint(razdalje[u][v] * x[u, v] <= p['R']) # če sta vozlišči v isti povezani komponenti, potem omejimo največjo razdaljo                                                                        do skladišča\n",
    "            else:\n",
    "                p.add_constraint(x[u, v] == 0) # sicer mesto u ne more pripadati skladišču v\n",
    "    max_razdalja = p.solve()\n",
    "    skladisca = [k for k, v in p.get_values(y).items() if v == 1]\n",
    "    print(skladisca)\n",
    "    return max_razdalja\n",
    "\n",
    "\n",
    "#G = mreza(5,3,3,2)\n",
    "#slika=G.show()\n",
    "#najkrajsa_razdalja(G,5)\n",
    "\n",
    "#print(connected_components(G)) #večdelni graf zapiše po ločenih delih\n",
    "#print(connected_components_number(G)) #št. delov"
   ]
  },
  {
   "cell_type": "code",
   "execution_count": 2,
   "metadata": {
    "collapsed": false
   },
   "outputs": [
    {
     "name": "stdout",
     "output_type": "stream",
     "text": [
      "[(1, 1), (4, 1)]\n"
     ]
    },
    {
     "name": "stdout",
     "output_type": "stream",
     "text": [
      "[(0, 2), (2, 2), (4, 1)]\n"
     ]
    },
    {
     "name": "stdout",
     "output_type": "stream",
     "text": [
      "[(0, 2), (1, 0), (2, 3), (4, 0)]\n",
      "[(0, 1), (0, 3), (2, 1), (3, 4), (4, 0)]\n"
     ]
    },
    {
     "name": "stdout",
     "output_type": "stream",
     "text": [
      "[(0, 1), (0, 3), (2, 0), (2, 3), (3, 3), (4, 0)]\n"
     ]
    },
    {
     "name": "stdout",
     "output_type": "stream",
     "text": [
      "[(0, 0), (0, 3), (2, 0), (2, 1), (2, 4), (4, 0), (4, 3)]\n",
      "[(0, 0), (0, 2), (1, 3), (2, 0), (2, 1), (2, 4), (4, 0), (4, 3)]\n"
     ]
    },
    {
     "name": "stdout",
     "output_type": "stream",
     "text": [
      "[(0, 0), (0, 1), (0, 2), (0, 3), (1, 0), (2, 0), (2, 3), (3, 3), (4, 0)]\n"
     ]
    },
    {
     "name": "stdout",
     "output_type": "stream",
     "text": [
      "[(0, 0), (0, 1), (0, 2), (0, 3), (1, 3), (2, 0), (2, 1), (2, 3), (3, 3), (4, 0)]\n"
     ]
    },
    {
     "data": {
      "text/plain": [
       "[5.0, 3.0, 2.0, 2.0, 1.0, 1.0, 1.0, 1.0, 1.0]"
      ]
     },
     "execution_count": 2,
     "metadata": {
     },
     "output_type": "execute_result"
    }
   ],
   "source": [
    "#kako se optimalna vrednost spreminja glede na k\n",
    "def opt_vrednost_k(k):\n",
    "    G = mreza(5,5,7,2)\n",
    "    seznam_vrednosti = []\n",
    "    stevilo_komponent = connected_components_number(G)\n",
    "    for i in range(stevilo_komponent,k+1): ## težave pri določanju najmanjšega i???\n",
    "        razdalja = round(najkrajsa_razdalja(G, i)) #round za zaokrževanje števil\n",
    "        seznam_vrednosti.append((razdalja))\n",
    "    return seznam_vrednosti\n",
    "\n",
    "opt_vrednost_k(10)\n"
   ]
  },
  {
   "cell_type": "code",
   "execution_count": 3,
   "metadata": {
    "collapsed": false
   },
   "outputs": [
    {
     "name": "stdout",
     "output_type": "stream",
     "text": [
      "[(0, 2), (1, 0), (2, 2), (2, 3), (3, 0)]\n"
     ]
    },
    {
     "name": "stdout",
     "output_type": "stream",
     "text": [
      "[(0, 2), (1, 0), (2, 3), (3, 1), (4, 1)]\n"
     ]
    },
    {
     "name": "stdout",
     "output_type": "stream",
     "text": [
      "[(0, 1), (1, 3), (2, 0), (3, 2), (3, 3)]\n",
      "[(0, 1), (1, 0), (1, 3), (2, 3), (4, 1)]\n"
     ]
    },
    {
     "name": "stdout",
     "output_type": "stream",
     "text": [
      "[(0, 1), (1, 1), (1, 3), (3, 0), (3, 2)]\n"
     ]
    },
    {
     "data": {
      "text/plain": [
       "[2.0, 2.0, 2.0, 2.0, 2.0]"
      ]
     },
     "execution_count": 3,
     "metadata": {
     },
     "output_type": "execute_result"
    }
   ],
   "source": [
    "#kako se oprimalna vrednost spreminja glede na št. izbrisanih vozlov a\n",
    "def opt_vrednost_vozli(a):\n",
    "    seznam_vrednosti = []\n",
    "    for i in range(0,a+1): \n",
    "        #print(i)\n",
    "        vozli = mreza(5,4,i,3)\n",
    "        #G.show()\n",
    "        razdalja = round(najkrajsa_razdalja(vozli, 5)) #round za zaokrževanje števil \n",
    "        seznam_vrednosti.append((razdalja))\n",
    "    return seznam_vrednosti\n",
    "\n",
    "opt_vrednost_vozli(4)"
   ]
  },
  {
   "cell_type": "code",
   "execution_count": 4,
   "metadata": {
    "collapsed": false,
    "scrolled": true
   },
   "outputs": [
    {
     "data": {
      "image/png": "[encoded data removed]",
      "text/plain": [
       "Graphics object consisting of 24 graphics primitives"
      ]
     },
     "execution_count": 4,
     "metadata": {
     },
     "output_type": "execute_result"
    },
    {
     "name": "stdout",
     "output_type": "stream",
     "text": [
      "[(0, 0), (2, 1), (4, 0)]\n",
      "[(0, 0), (1, 1), (3, 1), (4, 0)]\n",
      "[(0, 0), (0, 2), (2, 1), (3, 2), (4, 0)]\n"
     ]
    },
    {
     "data": {
      "text/plain": [
       "[0.026084423065185547, 0.04758906364440918, 0.07548260688781738]"
      ]
     },
     "execution_count": 4,
     "metadata": {
     },
     "output_type": "execute_result"
    }
   ],
   "source": [
    "import time\n",
    "\n",
    "#čas izvajanja v odvisnosti od k\n",
    "def cas_izvajanja_k(k):\n",
    "    F = mreza(5,3,3,2)\n",
    "    slika=F.show()\n",
    "    seznam_casov = []\n",
    "    stevilo_komponent = connected_components_number(F)\n",
    "    for i in range(stevilo_komponent,k+1):\n",
    "        zacetni = time.time()\n",
    "        najkrajsa_razdalja(F,i)\n",
    "        koncni = time.time() - zacetni\n",
    "        seznam_casov.append((koncni))\n",
    "    return seznam_casov\n",
    "\n",
    "cas_izvajanja_k(5)"
   ]
  }
 ],
 "metadata": {
  "kernelspec": {
   "display_name": "SageMath 9.2",
   "language": "sagemath",
   "metadata": {
    "cocalc": {
     "description": "Open-source mathematical software system",
     "priority": 10,
     "url": "https://www.sagemath.org/"
    }
   },
   "name": "sage-9.2",
   "resource_dir": "/ext/jupyter/kernels/sage-9.2"
  },
  "language_info": {
   "codemirror_mode": {
    "name": "ipython",
    "version": 3
   },
   "file_extension": ".py",
   "mimetype": "text/x-python",
   "name": "python",
   "nbconvert_exporter": "python",
   "pygments_lexer": "ipython3",
   "version": "3.8.5"
  }
 },
 "nbformat": 4,
 "nbformat_minor": 4
}