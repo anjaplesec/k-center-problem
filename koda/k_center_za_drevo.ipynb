{
 "cells": [
  {
   "cell_type": "code",
   "execution_count": 32,
   "metadata": {
    "collapsed": false
   },
   "outputs": [
    {
     "data": {
      "image/png": "[encoded data removed]",
      "text/plain": [
       "Graphics object consisting of 40 graphics primitives"
      ]
     },
     "execution_count": 32,
     "metadata": {
     },
     "output_type": "execute_result"
    },
    {
     "data": {
      "text/plain": [
       "2.0"
      ]
     },
     "execution_count": 32,
     "metadata": {
     },
     "output_type": "execute_result"
    }
   ],
   "source": [
    "def random_drevo(m): #vrne random drevo z m vozlišči\n",
    "    drevo = graphs.RandomTree(m)\n",
    "    return drevo\n",
    "\n",
    "G = random_drevo(20)\n",
    "G.show()\n",
    "\n",
    "def najkrajsa_razdalja(G, st_centrov):\n",
    "    K = st_centrov\n",
    "    razdalje = G.distance_all_pairs()\n",
    "\n",
    "    p = MixedIntegerLinearProgram(maximization=False)\n",
    "    x = p.new_variable(binary=True) #x_uv = 1 če mesto u spada k skladišču v (mestu v s skladiščem)\n",
    "    y = p.new_variable(binary=True) # y_v = 1 če je v mestu v skladišče\n",
    "\n",
    "    p.set_objective(p['R']) # največja razdalja je spremenljivka\n",
    "\n",
    "    for u in G:\n",
    "        p.add_constraint(sum(x[u, v] for v in G) == 1) #za vsako mesto u bo veljalo, da spada pod neko območje mesta v s skladiščem\n",
    "\n",
    "    p.add_constraint(sum(y[v] for v in G) == K) #vsota skladišč je enaka K\n",
    "\n",
    "    for u in G:\n",
    "        for v in G:\n",
    "            p.add_constraint(x[u, v] <= y[v]) #ne sme se zgoditi, da mesto u pade v območje mesta v, v mestu v pa sploh ni skladišča\n",
    "\n",
    "    for u in G:\n",
    "        for v in G:\n",
    "            if v in razdalje[u]:\n",
    "                p.add_constraint(razdalje[u][v] * x[u, v] <= p['R']) # če sta vozlišči v isti povezani komponenti, potem omejimo največjo razdaljo                                                                        do skladišča\n",
    "            else:\n",
    "                p.add_constraint(x[u, v] == 0) # sicer mesto u ne more pripadati skladišču v\n",
    "    max_razdalja = p.solve()\n",
    "    skladisca = [k for k, v in p.get_values(y).items() if v == 1]\n",
    "    #print(skladisca)\n",
    "    return round(max_razdalja\n",
    "\n",
    "najkrajsa_razdalja(G,5)\n"
   ]
  },
  {
   "cell_type": "code",
   "execution_count": 29,
   "metadata": {
    "collapsed": false
   },
   "outputs": [
    {
     "data": {
      "text/plain": [
       "[0.0166656494140625,\n",
       " 0.0414736270904541,\n",
       " 0.055849981307983396,\n",
       " 0.06085367202758789,\n",
       " 0.0660778522491455,\n",
       " 0.06434259414672852,\n",
       " 0.06455349922180176,\n",
       " 0.06590580940246582,\n",
       " 0.06621603965759278,\n",
       " 0.009547901153564454]"
      ]
     },
     "execution_count": 29,
     "metadata": {
     },
     "output_type": "execute_result"
    }
   ],
   "source": [
    "import time\n",
    "#čas izvajanja v odvisnosti od k\n",
    "def cas_izvajanja_k(m,k):\n",
    "    G = random_drevo(m)\n",
    "    #G.show()\n",
    "    seznam_casov = []\n",
    "    for i in range(1,k+1):\n",
    "        zacetni = time.time()\n",
    "        najkrajsa_razdalja(G,i)\n",
    "        koncni = time.time() - zacetni\n",
    "        seznam_casov.append((koncni))\n",
    "    return seznam_casov\n",
    "\n",
    "#vrne povprečne čase(od n ponovitev) za različne k\n",
    "#FIKSNO: velikost drevesa\n",
    "#SPREMINJAMO: k\n",
    "def cas_izvajanja_za_vec_ponovitev(m,max_stevilo_centrov,stevilo_ponovitev):\n",
    "    seznam = []\n",
    "    for i in range(0, stevilo_ponovitev):\n",
    "        casi = cas_izvajanja_k(m,max_stevilo_centrov)\n",
    "        seznam.append(casi)\n",
    "\n",
    "    for i in range(len(seznam)):\n",
    "        while len(seznam[i]) < max_stevilo_centrov:\n",
    "            seznam[i] = [None] + seznam[i]\n",
    "\n",
    "    povprecja = []\n",
    "    for j in range(max_stevilo_centrov):\n",
    "        vsota = 0\n",
    "        stevec = 0\n",
    "        for i in range(stevilo_ponovitev):\n",
    "            if seznam[i][j] != None:\n",
    "                vsota += seznam[i][j]\n",
    "                stevec += 1\n",
    "        if stevec == 0:\n",
    "            povprecja.append(None)\n",
    "        else:\n",
    "            povprecja.append(vsota/stevec)\n",
    "\n",
    "    return povprecja\n",
    "\n",
    "cas_izvajanja_za_vec_ponovitev(10,10,5)\n"
   ]
  },
  {
   "cell_type": "code",
   "execution_count": 33,
   "metadata": {
    "collapsed": false
   },
   "outputs": [
    {
     "data": {
      "text/plain": [
       "[3.8, 2.0, 1.6, 1.0, 1.0, 1.0, 1.0, 1.0, 1.0, 0.0]"
      ]
     },
     "execution_count": 33,
     "metadata": {
     },
     "output_type": "execute_result"
    }
   ],
   "source": [
    "#kako se optimalna vrednost spreminja glede na k\n",
    "def opt_vrednost_k(m,k):\n",
    "    G = random_drevo(m)\n",
    "    seznam_vrednosti = []\n",
    "    for i in range(1,k+1):\n",
    "        razdalja = round(najkrajsa_razdalja(G, i)) #round za zaokrževanje števil\n",
    "        seznam_vrednosti.append((razdalja))\n",
    "    return seznam_vrednosti\n",
    "\n",
    "#vrne optimalno vrednost R za več ponovitev\n",
    "#FIKSNO: velikost drevesa\n",
    "#SPREMINJAVA: k(max_stevilo_centrov)\n",
    "def opt_vrednost_za_vec_ponovitev(m,max_stevilo_centrov,stevilo_ponovitev):\n",
    "    seznam = []\n",
    "    for i in range(0, stevilo_ponovitev):\n",
    "        #G = random_drevo(m)\n",
    "        razdalje = opt_vrednost_k(m,max_stevilo_centrov)\n",
    "        seznam.append(razdalje)\n",
    "\n",
    "    for i in range(len(seznam)):\n",
    "        while len(seznam[i]) < max_stevilo_centrov:\n",
    "            seznam[i] = [None] + seznam[i]\n",
    "\n",
    "    povprecja = []\n",
    "    for j in range(max_stevilo_centrov):\n",
    "        vsota = 0\n",
    "        stevec = 0\n",
    "        for i in range(stevilo_ponovitev):\n",
    "            if seznam[i][j] != None:\n",
    "                vsota += seznam[i][j]\n",
    "                stevec += 1\n",
    "        if stevec == 0:\n",
    "            povprecja.append(None)\n",
    "        else:\n",
    "            povprecja.append(vsota/stevec)\n",
    "\n",
    "    return povprecja\n",
    "\n",
    "opt_vrednost_za_vec_ponovitev(10,10,5)"
   ]
  },
  {
   "cell_type": "code",
   "execution_count": 0,
   "metadata": {
    "collapsed": false
   },
   "outputs": [
   ],
   "source": [
   ]
  }
 ],
 "metadata": {
  "kernelspec": {
   "display_name": "SageMath 9.2",
   "language": "sagemath",
   "metadata": {
    "cocalc": {
     "description": "Open-source mathematical software system",
     "priority": 10,
     "url": "https://www.sagemath.org/"
    }
   },
   "name": "sage-9.2",
   "resource_dir": "/ext/jupyter/kernels/sage-9.2"
  },
  "language_info": {
   "codemirror_mode": {
    "name": "ipython",
    "version": 3
   },
   "file_extension": ".py",
   "mimetype": "text/x-python",
   "name": "python",
   "nbconvert_exporter": "python",
   "pygments_lexer": "ipython3",
   "version": "3.8.5"
  }
 },
 "nbformat": 4,
 "nbformat_minor": 4
}