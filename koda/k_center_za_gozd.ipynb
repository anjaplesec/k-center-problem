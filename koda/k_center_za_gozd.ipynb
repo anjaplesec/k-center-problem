{
 "cells": [
  {
   "cell_type": "code",
   "execution_count": 1,
   "metadata": {
    "collapsed": false
   },
   "outputs": [
    {
     "data": {
      "image/png": "[encoded data removed]",
      "text/plain": [
       "Graphics object consisting of 32 graphics primitives"
      ]
     },
     "execution_count": 1,
     "metadata": {
     },
     "output_type": "execute_result"
    },
    {
     "name": "stdout",
     "output_type": "stream",
     "text": [
      "[0, 3, 6, 12, 14]\n"
     ]
    },
    {
     "data": {
      "text/plain": [
       "2.0"
      ]
     },
     "execution_count": 1,
     "metadata": {
     },
     "output_type": "execute_result"
    }
   ],
   "source": [
    "from numpy import random\n",
    "from sage.graphs.connectivity import connected_components\n",
    "from sage.graphs.connectivity import connected_components_number\n",
    "\n",
    "def gozd(M,k): #M maksimalno število vozlišč, k število dreves\n",
    "    nakljucen_seznam = random.randint(2, M, size=k) #ustvari seznam k števil od 2 do M\n",
    "    drevesa = graphs.EmptyGraph() #ustvari prazen graf\n",
    "    for i in nakljucen_seznam: \n",
    "        drevesa += graphs.RandomTree(i)\n",
    "    return drevesa\n",
    "\n",
    "G = gozd(8, 3)\n",
    "p = G.show()\n",
    "\n",
    "def najkrajsa_razdalja(G, st_centrov):\n",
    "    K = st_centrov\n",
    "    razdalje = G.distance_all_pairs()\n",
    "\n",
    "    p = MixedIntegerLinearProgram(maximization=False)\n",
    "    x = p.new_variable(binary=True) #x_uv = 1 če mesto u spada k skladišču v (mestu v s skladiščem)\n",
    "    y = p.new_variable(binary=True) # y_v = 1 če je v mestu v skladišče\n",
    "\n",
    "    p.set_objective(p['R']) # največja razdalja je spremenljivka\n",
    "\n",
    "    for u in G:\n",
    "        p.add_constraint(sum(x[u, v] for v in G) == 1) #za vsako mesto u bo veljalo, da spada pod neko območje mesta v s skladiščem\n",
    "\n",
    "    p.add_constraint(sum(y[v] for v in G) == K) #vsota skladišč je enaka K\n",
    "\n",
    "    for u in G:\n",
    "        for v in G:\n",
    "            p.add_constraint(x[u, v] <= y[v]) #ne sme se zgoditi, da mesto u pade v območje mesta v, v mestu v pa sploh ni skladišča\n",
    "\n",
    "    for u in G:\n",
    "        for v in G:\n",
    "            if v in razdalje[u]:\n",
    "                p.add_constraint(razdalje[u][v] * x[u, v] <= p['R']) # če sta vozlišči v isti povezani komponenti, potem omejimo največjo razdaljo                                                                        do skladišča\n",
    "            else:\n",
    "                p.add_constraint(x[u, v] == 0) # sicer mesto u ne more pripadati skladišču v\n",
    "    max_razdalja = p.solve()\n",
    "    skladisca = [k for k, v in p.get_values(y).items() if v == 1]\n",
    "    print(skladisca)\n",
    "    return max_razdalja\n",
    "\n",
    "najkrajsa_razdalja(G,5)\n"
   ]
  },
  {
   "cell_type": "code",
   "execution_count": 0,
   "metadata": {
    "collapsed": false
   },
   "outputs": [
   ],
   "source": [
   ]
  }
 ],
 "metadata": {
  "kernelspec": {
   "display_name": "SageMath 9.2",
   "language": "sagemath",
   "metadata": {
    "cocalc": {
     "description": "Open-source mathematical software system",
     "priority": 10,
     "url": "https://www.sagemath.org/"
    }
   },
   "name": "sage-9.2",
   "resource_dir": "/ext/jupyter/kernels/sage-9.2"
  },
  "language_info": {
   "codemirror_mode": {
    "name": "ipython",
    "version": 3
   },
   "file_extension": ".py",
   "mimetype": "text/x-python",
   "name": "python",
   "nbconvert_exporter": "python",
   "pygments_lexer": "ipython3",
   "version": "3.8.5"
  }
 },
 "nbformat": 4,
 "nbformat_minor": 4
}