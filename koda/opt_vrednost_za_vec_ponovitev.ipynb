{
 "cells": [
  {
   "cell_type": "code",
   "execution_count": 0,
   "metadata": {
    "collapsed": false
   },
   "outputs": [
   ],
   "source": [
    "def opt_vrednost_za_vec_ponovitev2(m,n,a,b,max_stevilo_centrov,stevilo_ponovitev):\n",
    "    seznam = []\n",
    "    for i in range(0, stevilo_ponovitev):\n",
    "        G = mreza(m,n,a,b)\n",
    "        razdalje = opt_vrednost_k(max_stevilo_centrov)\n",
    "        seznam.append(sum(razdalje)/len(razdalje))\n",
    "    return seznam\n",
    "\n",
    "#opt_vrednost_za_vec_ponovitev2(5,5,7,2,5,5)\n",
    "\n",
    "def vsote_za_vec_ponovitev(m,n,a,b,max_stevilo_centrov,stevilo_ponovitev):\n",
    "    seznam = []\n",
    "    for i in range(0, stevilo_ponovitev):\n",
    "        G = mreza(m,n,a,b)\n",
    "        razdalje = opt_vrednost_k(max_stevilo_centrov)\n",
    "        seznam.append(razdalje)\n",
    "\n",
    "#    najdaljsi = 0\n",
    "#    for i in range(len(seznam)):\n",
    "#        if len(seznam[i]) > najdaljsi:\n",
    "#            najdaljsi = len(seznam[i])\n",
    "\n",
    "    for i in range(len(seznam)):\n",
    "        while len(seznam[i]) < max_stevilo_centrov:\n",
    "            seznam[i] = [None] + seznam[i]\n",
    "\n",
    "    return seznam\n",
    "\n",
    "\n",
    "def opt_vrednost_za_vec_ponovitev(m,n,a,b,max_stevilo_centrov,stevilo_ponovitev):\n",
    "    seznam = []\n",
    "    for i in range(0, stevilo_ponovitev):\n",
    "        G = mreza(m,n,a,b)\n",
    "        razdalje = opt_vrednost_k(max_stevilo_centrov)\n",
    "        seznam.append(razdalje)\n",
    "\n",
    "    for i in range(len(seznam)):\n",
    "        while len(seznam[i]) < max_stevilo_centrov:\n",
    "            seznam[i] = [None] + seznam[i]\n",
    "\n",
    "    povprecja = []\n",
    "    for j in range(max_stevilo_centrov):\n",
    "        vsota = 0\n",
    "        stevec = 0\n",
    "        for i in range(stevilo_ponovitev):\n",
    "            if seznam[i][j] != None:\n",
    "                vsota += seznam[i][j]\n",
    "                stevec += 1\n",
    "        povprecja.append(vsota/stevec)\n",
    "\n",
    "    return povprecja\n",
    "\n",
    "opt_vrednost_za_vec_ponovitev(5,5,7,2,5,5)"
   ]
  }
 ],
 "metadata": {
  "kernelspec": {
   "display_name": "SageMath 9.1",
   "language": "sagemath",
   "metadata": {
    "cocalc": {
     "description": "Open-source mathematical software system",
     "priority": 1,
     "url": "https://www.sagemath.org/"
    }
   },
   "name": "sage-9.1",
   "resource_dir": "/ext/jupyter/kernels/sage-9.1"
  }
 },
 "nbformat": 4,
 "nbformat_minor": 4
}