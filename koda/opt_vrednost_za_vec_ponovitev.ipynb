{
 "cells": [
  {
   "cell_type": "code",
   "execution_count": 0,
   "metadata": {
    "collapsed": false
   },
   "outputs": [
   ],
   "source": [
    "#kako se optimalna vrednost spreminja glede na k\n",
    "def opt_vrednost_k(m,n,a,b,k):\n",
    "    G = mreza(m,n,a,b)\n",
    "    seznam_vrednosti = []\n",
    "    stevilo_komponent = connected_components_number(G)\n",
    "    for i in range(stevilo_komponent,k+1): ## težave pri določanju najmanjšega i???\n",
    "        razdalja = round(najkrajsa_razdalja(G, i)) #round za zaokrževanje števil\n",
    "        seznam_vrednosti.append((razdalja))\n",
    "    return seznam_vrednosti\n",
    "\n",
    "def opt_vrednost_za_vec_ponovitev(m,n,a,b,max_stevilo_centrov,stevilo_ponovitev):\n",
    "    seznam = []\n",
    "    for i in range(0, stevilo_ponovitev):\n",
    "        G = mreza(m,n,a,b)\n",
    "        razdalje = opt_vrednost_k(m,n,a,b,max_stevilo_centrov)\n",
    "        seznam.append(razdalje)\n",
    "\n",
    "    for i in range(len(seznam)):\n",
    "        while len(seznam[i]) < max_stevilo_centrov:\n",
    "            seznam[i] = [None] + seznam[i]\n",
    "\n",
    "    povprecja = []\n",
    "    for j in range(max_stevilo_centrov):\n",
    "        vsota = 0\n",
    "        stevec = 0\n",
    "        for i in range(stevilo_ponovitev):\n",
    "            if seznam[i][j] != None:\n",
    "                vsota += seznam[i][j]\n",
    "                stevec += 1\n",
    "        if stevec == 0:\n",
    "            povprecja.append(None)\n",
    "        else:\n",
    "            povprecja.append(vsota/stevec)\n",
    "\n",
    "    return povprecja\n",
    "\n",
    "opt_vrednost_za_vec_ponovitev(3,4,2,2,2,10)"
   ]
  }
 ],
 "metadata": {
  "kernelspec": {
   "display_name": "SageMath 9.1",
   "language": "sagemath",
   "metadata": {
    "cocalc": {
     "description": "Open-source mathematical software system",
     "priority": 1,
     "url": "https://www.sagemath.org/"
    }
   },
   "name": "sage-9.1",
   "resource_dir": "/ext/jupyter/kernels/sage-9.1"
  }
 },
 "nbformat": 4,
 "nbformat_minor": 4
}