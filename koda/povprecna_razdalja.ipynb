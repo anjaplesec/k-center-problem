{
 "cells": [
  {
   "cell_type": "code",
   "execution_count": 0,
   "metadata": {
    "collapsed": false
   },
   "outputs": [
   ],
   "source": [
    "def povprecna_razdalja(m,n,a,b,stevilo_centrov,stevilo_ponovitev):\n",
    "    K = stevilo_centrov\n",
    "    seznam_najkrajsih_razdalj = []\n",
    "    for i in range(stevilo_ponovitev):\n",
    "        G = mreza(m,n,a,b)\n",
    "        razdalja = najkrajsa_razdalja(G, stevilo_centrov)\n",
    "        seznam_najkrajsih_razdalj.append(razdalja)\n",
    "    avg = sum(seznam_najkrajsih_razdalj)/stevilo_ponovitev\n",
    "    return seznam_najkrajsih_razdalj, avg\n",
    "\n",
    "povprecna_razdalja(5,5,7,4,5,10)"
   ]
  }
 ],
 "metadata": {
  "kernelspec": {
   "display_name": "SageMath 9.1",
   "language": "sagemath",
   "metadata": {
    "cocalc": {
     "description": "Open-source mathematical software system",
     "priority": 1,
     "url": "https://www.sagemath.org/"
    }
   },
   "name": "sage-9.1",
   "resource_dir": "/ext/jupyter/kernels/sage-9.1"
  }
 },
 "nbformat": 4,
 "nbformat_minor": 4
}