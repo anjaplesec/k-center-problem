{
 "cells": [
  {
   "cell_type": "code",
   "execution_count": 0,
   "metadata": {
    "collapsed": false
   },
   "outputs": [
   ],
   "source": [
    "import time\n",
    "\n",
    "#čas izvajanja v odvisnosti od k\n",
    "def cas_izvajanja_k(m,n,a,b,k):\n",
    "    G = mreza(m,n,a,b)\n",
    "    #slika=F.show()\n",
    "    seznam_casov = []\n",
    "    stevilo_komponent = connected_components_number(G)\n",
    "    for i in range(stevilo_komponent,k+1):\n",
    "        zacetni = time.time()\n",
    "        najkrajsa_razdalja(G,i)\n",
    "        koncni = time.time() - zacetni\n",
    "        seznam_casov.append((koncni))\n",
    "    return seznam_casov\n",
    "\n",
    "cas_izvajanja_k(3,3,1,1,5)\n",
    "\n",
    "def cas_izvajanja_za_vec_ponovitev(m,n,a,b,max_stevilo_centrov,stevilo_ponovitev):\n",
    "    seznam = []\n",
    "    for i in range(0, stevilo_ponovitev):\n",
    "        G = mreza(m,n,a,b)\n",
    "        casi = cas_izvajanja_k(m,n,a,b,max_stevilo_centrov)\n",
    "        seznam.append(casi)\n",
    "\n",
    "    for i in range(len(seznam)):\n",
    "        while len(seznam[i]) < max_stevilo_centrov:\n",
    "            seznam[i] = [None] + seznam[i]\n",
    "\n",
    "    povprecja = []\n",
    "    for j in range(max_stevilo_centrov):\n",
    "        vsota = 0\n",
    "        stevec = 0\n",
    "        for i in range(stevilo_ponovitev):\n",
    "            if seznam[i][j] != None:\n",
    "                vsota += seznam[i][j]\n",
    "                stevec += 1\n",
    "        if stevec == 0:\n",
    "            povprecja.append(None)\n",
    "        else:\n",
    "            povprecja.append(vsota/stevec)\n",
    "\n",
    "    return povprecja\n",
    "\n",
    "cas_izvajanja_za_vec_ponovitev(3,4,2,2,3,10)"
   ]
  }
 ],
 "metadata": {
  "kernelspec": {
   "display_name": "SageMath 9.1",
   "language": "sagemath",
   "metadata": {
    "cocalc": {
     "description": "Open-source mathematical software system",
     "priority": 1,
     "url": "https://www.sagemath.org/"
    }
   },
   "name": "sage-9.1",
   "resource_dir": "/ext/jupyter/kernels/sage-9.1"
  }
 },
 "nbformat": 4,
 "nbformat_minor": 4
}