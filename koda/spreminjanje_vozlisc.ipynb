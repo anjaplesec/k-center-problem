{
 "cells": [
  {
   "cell_type": "code",
   "execution_count": 0,
   "metadata": {
    "collapsed": false
   },
   "outputs": [
   ],
   "source": [
    "#kako se oprimalna vrednost spreminja glede na št. izbrisanih vozlov a\n",
    "def opt_vrednost_vozli(m,n,max_st_izbrisanih_vozlisc,b,k):\n",
    "    seznam_vrednosti = []\n",
    "    for i in range(0,max_st_izbrisanih_vozlisc + 1):\n",
    "        G = mreza(m,n,i,b)\n",
    "        stevilo_komponent = connected_components_number(G)\n",
    "        if stevilo_komponent <= k:\n",
    "            razdalja = round(najkrajsa_razdalja(G, k)) #round za zaokrževanje števil \n",
    "            seznam_vrednosti.append((razdalja))\n",
    "        else:\n",
    "            seznam_vrednosti.append(None)\n",
    "            \n",
    "    return seznam_vrednosti\n",
    "\n",
    "opt_vrednost_vozli(5,5,15,2,3)\n",
    "\n",
    "# !!!!!!!!!!! NEKI PAMETNGA BO TREBA NAREST Z None-i, ker primerjamo jabolka pa hruske pri razdrobljenih grafih pri relativno majhnih k !!!!!!!!!!!\n",
    "#FIKSNO:velikost mreze, K, st. izbrisanih povezav\n",
    "#SPREMINJAM: st_izbrisanih vozlov\n",
    "def R_v_odvisnosti_od_spreminjanje_stevila_vozlisc(m,n,max_st_izbrisanih_vozlisc,b,k,stevilo_ponovitev):\n",
    "    seznam = []\n",
    "    for i in range(stevilo_ponovitev):\n",
    "        razdalje = opt_vrednost_vozli(m,n,max_st_izbrisanih_vozlisc,b,k)\n",
    "        seznam.append(razdalje)\n",
    "\n",
    "    povprecja = []\n",
    "    for j in range(max_st_izbrisanih_vozlisc + 1):\n",
    "        vsota = 0\n",
    "        stevec = 0\n",
    "        for i in range(stevilo_ponovitev):\n",
    "            if seznam[i][j] != None:\n",
    "                vsota += seznam[i][j]\n",
    "                stevec += 1\n",
    "        if stevec == 0:\n",
    "            povprecja.append(None)\n",
    "        else:\n",
    "            povprecja.append(vsota/stevec)\n",
    "    return povprecja\n",
    "\n",
    "R_v_odvisnosti_od_spreminjanje_stevila_vozlisc(5,5,15,2,3,3)"
   ]
  }
 ],
 "metadata": {
  "kernelspec": {
   "display_name": "SageMath 9.1",
   "language": "sagemath",
   "metadata": {
    "cocalc": {
     "description": "Open-source mathematical software system",
     "priority": 1,
     "url": "https://www.sagemath.org/"
    }
   },
   "name": "sage-9.1",
   "resource_dir": "/ext/jupyter/kernels/sage-9.1"
  }
 },
 "nbformat": 4,
 "nbformat_minor": 4
}