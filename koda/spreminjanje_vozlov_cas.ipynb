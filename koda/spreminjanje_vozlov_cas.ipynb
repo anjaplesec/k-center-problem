{
 "cells": [
  {
   "cell_type": "code",
   "execution_count": 0,
   "metadata": {
    "collapsed": false
   },
   "outputs": [
   ],
   "source": [
    "import time\n",
    "\n",
    "#funkcija drugacna od cas_izvajanja_k(m,n,a,b,k)\n",
    "#čas izvajanja v odvisnosti od k\n",
    "def cas_izvajanja_k2(m,n,max_st_izbrisanih_vozlisc,b,k):\n",
    "    seznam_casov = []\n",
    "    for i in range(max_st_izbrisanih_vozlisc + 1):\n",
    "        G = mreza(m,n,i,b)\n",
    "        stevilo_komponent = connected_components_number(G)\n",
    "        if stevilo_komponent <= k:\n",
    "            zacetni = time.time()\n",
    "            najkrajsa_razdalja(G,k)\n",
    "            koncni = time.time() - zacetni\n",
    "            seznam_casov.append(koncni)\n",
    "        else:\n",
    "            seznam_casov.append(None)\n",
    "    return seznam_casov\n",
    "\n",
    "cas_izvajanja_k(3,3,1,1,5)\n",
    "\n",
    "\n",
    "#FIKSNO:velikost mreze, K, st. izbrisanih povezav\n",
    "#SPREMINJAM: st_izbrisanih vozlov\n",
    "def cas_v_odvisnosti_od_spreminjanja_stevila_vozlisc(m,n,max_st_izbrisanih_vozlisc,b,k,stevilo_ponovitev):\n",
    "    seznam = []\n",
    "    for i in range(stevilo_ponovitev):\n",
    "        casi = cas_izvajanja_k2(m,n,max_st_izbrisanih_vozlisc,b,k)\n",
    "        seznam.append(casi)\n",
    "\n",
    "    povprecja = []\n",
    "    for j in range(max_st_izbrisanih_vozlisc + 1):\n",
    "        vsota = 0\n",
    "        stevec = 0\n",
    "        for i in range(stevilo_ponovitev):\n",
    "            if seznam[i][j] != None:\n",
    "                vsota += seznam[i][j]\n",
    "                stevec += 1\n",
    "        if stevec == 0:\n",
    "            povprecja.append(None)\n",
    "        else:\n",
    "            povprecja.append(vsota/stevec)\n",
    "    return povprecja\n",
    "\n",
    "cas_v_odvisnosti_od_spreminjanja_stevila_vozlisc(5,5,15,2,3,3)"
   ]
  }
 ],
 "metadata": {
  "kernelspec": {
   "display_name": "SageMath 9.1",
   "language": "sagemath",
   "metadata": {
    "cocalc": {
     "description": "Open-source mathematical software system",
     "priority": 1,
     "url": "https://www.sagemath.org/"
    }
   },
   "name": "sage-9.1",
   "resource_dir": "/ext/jupyter/kernels/sage-9.1"
  }
 },
 "nbformat": 4,
 "nbformat_minor": 4
}